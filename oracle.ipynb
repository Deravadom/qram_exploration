{
 "cells": [
  {
   "cell_type": "code",
   "execution_count": 1,
   "source": [
    "from qiskit import QuantumCircuit, transpile, QuantumRegister, ClassicalRegister\n",
    "from qiskit.providers.aer import QasmSimulator\n",
    "from qiskit.visualization import plot_bloch_multivector, plot_histogram\n",
    "from qiskit.extensions import UnitaryGate\n",
    "import qiskit.quantum_info as qi\n",
    "from utils import simulate"
   ],
   "outputs": [],
   "metadata": {}
  },
  {
   "cell_type": "code",
   "execution_count": 2,
   "source": [
    "f = QuantumRegister(4)\n",
    "output = QuantumRegister(3)\n",
    "qc = QuantumCircuit(f,1)\n",
    "\n",
    "#init\n",
    "\n",
    "qc.barrier()\n",
    "\n",
    "#check every even bit ((n/2)-1 out)\n",
    "#check every odd bit ((n/2)-1 out)\n",
    "#check first two (1 out)\n",
    "#total n-1 out\n",
    "\n",
    "def neq(qc, a, b, out):\n",
    "    qc.cx(a,out)\n",
    "    qc.cx(b,out)\n",
    "def eq(qc, a, b, out):\n",
    "    qc.ccx(a,b,out)\n",
    "\n",
    "for i in range(len(f)-2):\n",
    "    eq(qc, f[i], f[i+2], output(i))\n",
    "neq(qc, f[0],f[1], )\n"
   ],
   "outputs": [
    {
     "output_type": "error",
     "ename": "CircuitError",
     "evalue": "\"Circuit args must be Registers or integers. (['QuantumRegister', 'int'] '(QuantumRegister(4, 'q0'), 1)' was provided)\"",
     "traceback": [
      "\u001b[0;31m---------------------------------------------------------------------------\u001b[0m",
      "\u001b[0;31mCircuitError\u001b[0m                              Traceback (most recent call last)",
      "\u001b[0;32m/tmp/ipykernel_9707/3534501859.py\u001b[0m in \u001b[0;36m<module>\u001b[0;34m\u001b[0m\n\u001b[1;32m      1\u001b[0m \u001b[0mf\u001b[0m \u001b[0;34m=\u001b[0m \u001b[0mQuantumRegister\u001b[0m\u001b[0;34m(\u001b[0m\u001b[0;36m4\u001b[0m\u001b[0;34m)\u001b[0m\u001b[0;34m\u001b[0m\u001b[0;34m\u001b[0m\u001b[0m\n\u001b[1;32m      2\u001b[0m \u001b[0moutput\u001b[0m \u001b[0;34m=\u001b[0m \u001b[0mQuantumRegister\u001b[0m\u001b[0;34m(\u001b[0m\u001b[0;36m3\u001b[0m\u001b[0;34m)\u001b[0m\u001b[0;34m\u001b[0m\u001b[0;34m\u001b[0m\u001b[0m\n\u001b[0;32m----> 3\u001b[0;31m \u001b[0mqc\u001b[0m \u001b[0;34m=\u001b[0m \u001b[0mQuantumCircuit\u001b[0m\u001b[0;34m(\u001b[0m\u001b[0mf\u001b[0m\u001b[0;34m,\u001b[0m\u001b[0;36m1\u001b[0m\u001b[0;34m)\u001b[0m\u001b[0;34m\u001b[0m\u001b[0;34m\u001b[0m\u001b[0m\n\u001b[0m\u001b[1;32m      4\u001b[0m \u001b[0;34m\u001b[0m\u001b[0m\n\u001b[1;32m      5\u001b[0m \u001b[0;31m#init\u001b[0m\u001b[0;34m\u001b[0m\u001b[0;34m\u001b[0m\u001b[0;34m\u001b[0m\u001b[0m\n",
      "\u001b[0;32m~/personal/quantum/task1/venv/lib/python3.7/site-packages/qiskit/circuit/quantumcircuit.py\u001b[0m in \u001b[0;36m__init__\u001b[0;34m(self, name, global_phase, metadata, *regs)\u001b[0m\n\u001b[1;32m    162\u001b[0m                 raise CircuitError(\n\u001b[1;32m    163\u001b[0m                     \u001b[0;34m\"Circuit args must be Registers or integers. (%s '%s' was \"\u001b[0m\u001b[0;34m\u001b[0m\u001b[0;34m\u001b[0m\u001b[0m\n\u001b[0;32m--> 164\u001b[0;31m                     \u001b[0;34m\"provided)\"\u001b[0m \u001b[0;34m%\u001b[0m \u001b[0;34m(\u001b[0m\u001b[0;34m[\u001b[0m\u001b[0mtype\u001b[0m\u001b[0;34m(\u001b[0m\u001b[0mreg\u001b[0m\u001b[0;34m)\u001b[0m\u001b[0;34m.\u001b[0m\u001b[0m__name__\u001b[0m \u001b[0;32mfor\u001b[0m \u001b[0mreg\u001b[0m \u001b[0;32min\u001b[0m \u001b[0mregs\u001b[0m\u001b[0;34m]\u001b[0m\u001b[0;34m,\u001b[0m \u001b[0mregs\u001b[0m\u001b[0;34m)\u001b[0m\u001b[0;34m\u001b[0m\u001b[0;34m\u001b[0m\u001b[0m\n\u001b[0m\u001b[1;32m    165\u001b[0m                 )\n\u001b[1;32m    166\u001b[0m \u001b[0;34m\u001b[0m\u001b[0m\n",
      "\u001b[0;31mCircuitError\u001b[0m: \"Circuit args must be Registers or integers. (['QuantumRegister', 'int'] '(QuantumRegister(4, 'q0'), 1)' was provided)\""
     ]
    }
   ],
   "metadata": {}
  },
  {
   "cell_type": "code",
   "execution_count": 4,
   "source": [
    "def controlled_n(n):\n",
    "    total = 2**(n+1)\n",
    "    data = [[1 if i == j else 0 for j in range(total)] for i in range(total)]\n",
    "    temp = data[-1]\n",
    "    data[-1] = data[(total//2)-1]\n",
    "    data[(total//2)-1] = temp\n",
    "\n",
    "    return data\n",
    "\n",
    "cn_x = UnitaryGate(controlled_n(3), label=\"cn_x\")\n",
    "\n",
    "qc = QuantumCircuit(4,1)\n",
    "qc.append(cn_x, qc)\n",
    "\n",
    "qc.draw()"
   ],
   "outputs": [
    {
     "output_type": "error",
     "ename": "CircuitError",
     "evalue": "'The amount of qubit(0)/clbit(0) arguments does not match the gate expectation (4).'",
     "traceback": [
      "\u001b[0;31m---------------------------------------------------------------------------\u001b[0m",
      "\u001b[0;31mCircuitError\u001b[0m                              Traceback (most recent call last)",
      "\u001b[0;32m/tmp/ipykernel_9707/3085752244.py\u001b[0m in \u001b[0;36m<module>\u001b[0;34m\u001b[0m\n\u001b[1;32m     11\u001b[0m \u001b[0;34m\u001b[0m\u001b[0m\n\u001b[1;32m     12\u001b[0m \u001b[0mqc\u001b[0m \u001b[0;34m=\u001b[0m \u001b[0mQuantumCircuit\u001b[0m\u001b[0;34m(\u001b[0m\u001b[0;36m4\u001b[0m\u001b[0;34m,\u001b[0m\u001b[0;36m1\u001b[0m\u001b[0;34m)\u001b[0m\u001b[0;34m\u001b[0m\u001b[0;34m\u001b[0m\u001b[0m\n\u001b[0;32m---> 13\u001b[0;31m \u001b[0mqc\u001b[0m\u001b[0;34m.\u001b[0m\u001b[0mappend\u001b[0m\u001b[0;34m(\u001b[0m\u001b[0mcn_x\u001b[0m\u001b[0;34m,\u001b[0m \u001b[0mqc\u001b[0m\u001b[0;34m)\u001b[0m\u001b[0;34m\u001b[0m\u001b[0;34m\u001b[0m\u001b[0m\n\u001b[0m\u001b[1;32m     14\u001b[0m \u001b[0;34m\u001b[0m\u001b[0m\n\u001b[1;32m     15\u001b[0m \u001b[0mqc\u001b[0m\u001b[0;34m.\u001b[0m\u001b[0mdraw\u001b[0m\u001b[0;34m(\u001b[0m\u001b[0;34m)\u001b[0m\u001b[0;34m\u001b[0m\u001b[0;34m\u001b[0m\u001b[0m\n",
      "\u001b[0;32m~/personal/quantum/task1/venv/lib/python3.7/site-packages/qiskit/circuit/quantumcircuit.py\u001b[0m in \u001b[0;36mappend\u001b[0;34m(self, instruction, qargs, cargs)\u001b[0m\n\u001b[1;32m   1083\u001b[0m \u001b[0;34m\u001b[0m\u001b[0m\n\u001b[1;32m   1084\u001b[0m         \u001b[0minstructions\u001b[0m \u001b[0;34m=\u001b[0m \u001b[0mInstructionSet\u001b[0m\u001b[0;34m(\u001b[0m\u001b[0;34m)\u001b[0m\u001b[0;34m\u001b[0m\u001b[0;34m\u001b[0m\u001b[0m\n\u001b[0;32m-> 1085\u001b[0;31m         \u001b[0;32mfor\u001b[0m \u001b[0;34m(\u001b[0m\u001b[0mqarg\u001b[0m\u001b[0;34m,\u001b[0m \u001b[0mcarg\u001b[0m\u001b[0;34m)\u001b[0m \u001b[0;32min\u001b[0m \u001b[0minstruction\u001b[0m\u001b[0;34m.\u001b[0m\u001b[0mbroadcast_arguments\u001b[0m\u001b[0;34m(\u001b[0m\u001b[0mexpanded_qargs\u001b[0m\u001b[0;34m,\u001b[0m \u001b[0mexpanded_cargs\u001b[0m\u001b[0;34m)\u001b[0m\u001b[0;34m:\u001b[0m\u001b[0;34m\u001b[0m\u001b[0;34m\u001b[0m\u001b[0m\n\u001b[0m\u001b[1;32m   1086\u001b[0m             \u001b[0minstructions\u001b[0m\u001b[0;34m.\u001b[0m\u001b[0madd\u001b[0m\u001b[0;34m(\u001b[0m\u001b[0mself\u001b[0m\u001b[0;34m.\u001b[0m\u001b[0m_append\u001b[0m\u001b[0;34m(\u001b[0m\u001b[0minstruction\u001b[0m\u001b[0;34m,\u001b[0m \u001b[0mqarg\u001b[0m\u001b[0;34m,\u001b[0m \u001b[0mcarg\u001b[0m\u001b[0;34m)\u001b[0m\u001b[0;34m,\u001b[0m \u001b[0mqarg\u001b[0m\u001b[0;34m,\u001b[0m \u001b[0mcarg\u001b[0m\u001b[0;34m)\u001b[0m\u001b[0;34m\u001b[0m\u001b[0;34m\u001b[0m\u001b[0m\n\u001b[1;32m   1087\u001b[0m         \u001b[0;32mreturn\u001b[0m \u001b[0minstructions\u001b[0m\u001b[0;34m\u001b[0m\u001b[0;34m\u001b[0m\u001b[0m\n",
      "\u001b[0;32m~/personal/quantum/task1/venv/lib/python3.7/site-packages/qiskit/circuit/gate.py\u001b[0m in \u001b[0;36mbroadcast_arguments\u001b[0;34m(self, qargs, cargs)\u001b[0m\n\u001b[1;32m    199\u001b[0m         \u001b[0;32mif\u001b[0m \u001b[0mlen\u001b[0m\u001b[0;34m(\u001b[0m\u001b[0mqargs\u001b[0m\u001b[0;34m)\u001b[0m \u001b[0;34m!=\u001b[0m \u001b[0mself\u001b[0m\u001b[0;34m.\u001b[0m\u001b[0mnum_qubits\u001b[0m \u001b[0;32mor\u001b[0m \u001b[0mcargs\u001b[0m\u001b[0;34m:\u001b[0m\u001b[0;34m\u001b[0m\u001b[0;34m\u001b[0m\u001b[0m\n\u001b[1;32m    200\u001b[0m             raise CircuitError(\n\u001b[0;32m--> 201\u001b[0;31m                 \u001b[0;34mf\"The amount of qubit({len(qargs)})/clbit({len(cargs)}) arguments does\"\u001b[0m\u001b[0;34m\u001b[0m\u001b[0;34m\u001b[0m\u001b[0m\n\u001b[0m\u001b[1;32m    202\u001b[0m                 \u001b[0;34mf\" not match the gate expectation ({self.num_qubits}).\"\u001b[0m\u001b[0;34m\u001b[0m\u001b[0;34m\u001b[0m\u001b[0m\n\u001b[1;32m    203\u001b[0m             )\n",
      "\u001b[0;31mCircuitError\u001b[0m: 'The amount of qubit(0)/clbit(0) arguments does not match the gate expectation (4).'"
     ]
    }
   ],
   "metadata": {}
  }
 ],
 "metadata": {
  "orig_nbformat": 4,
  "language_info": {
   "name": "python",
   "version": "3.7.3",
   "mimetype": "text/x-python",
   "codemirror_mode": {
    "name": "ipython",
    "version": 3
   },
   "pygments_lexer": "ipython3",
   "nbconvert_exporter": "python",
   "file_extension": ".py"
  },
  "kernelspec": {
   "name": "python3",
   "display_name": "Python 3.7.3 64-bit ('venv': venv)"
  },
  "interpreter": {
   "hash": "c984aeedb89f5504275b1107b6a7fe3ff7008b0c8c6dfdf257231b87ecd8cd6e"
  }
 },
 "nbformat": 4,
 "nbformat_minor": 2
}